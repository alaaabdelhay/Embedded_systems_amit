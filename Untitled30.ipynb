{
  "nbformat": 4,
  "nbformat_minor": 0,
  "metadata": {
    "colab": {
      "provenance": [],
      "authorship_tag": "ABX9TyMENxWXiyj9vlzpgIQYF2dw",
      "include_colab_link": true
    },
    "kernelspec": {
      "name": "python3",
      "display_name": "Python 3"
    },
    "language_info": {
      "name": "python"
    }
  },
  "cells": [
    {
      "cell_type": "markdown",
      "metadata": {
        "id": "view-in-github",
        "colab_type": "text"
      },
      "source": [
        "<a href=\"https://colab.research.google.com/github/alaaabdelhay/Embedded_systems_amit/blob/main/Untitled30.ipynb\" target=\"_parent\"><img src=\"https://colab.research.google.com/assets/colab-badge.svg\" alt=\"Open In Colab\"/></a>"
      ]
    },
    {
      "cell_type": "code",
      "execution_count": 1,
      "metadata": {
        "colab": {
          "base_uri": "https://localhost:8080/"
        },
        "id": "6SmuoD7tsSFg",
        "outputId": "3344078f-cd28-4fe3-ae33-90b0e193fcea"
      },
      "outputs": [
        {
          "output_type": "stream",
          "name": "stdout",
          "text": [
            "Simple Calculator using Functions\n",
            "Operations: +, -, *, /\n",
            "Enter first number: 2\n",
            "Enter operator (+, -, *, /): +\n",
            "Enter second number: 6\n",
            "Result: 8.0\n"
          ]
        }
      ],
      "source": [
        "# Define functions\n",
        "def add(a, b):\n",
        "    return a + b\n",
        "\n",
        "def subtract(a, b):\n",
        "    return a - b\n",
        "\n",
        "def multiply(a, b):\n",
        "    return a * b\n",
        "\n",
        "def divide(a, b):\n",
        "    if b != 0:\n",
        "        return a / b\n",
        "    else:\n",
        "        return \"Error! Division by zero.\"\n",
        "\n",
        "# Main calculator program\n",
        "def calculator():\n",
        "    print(\"Simple Calculator using Functions\")\n",
        "    print(\"Operations: +, -, *, /\")\n",
        "\n",
        "    num1 = float(input(\"Enter first number: \"))\n",
        "    op = input(\"Enter operator (+, -, *, /): \")\n",
        "    num2 = float(input(\"Enter second number: \"))\n",
        "\n",
        "    if op == '+':\n",
        "        print(\"Result:\", add(num1, num2))\n",
        "    elif op == '-':\n",
        "        print(\"Result:\", subtract(num1, num2))\n",
        "    elif op == '*':\n",
        "        print(\"Result:\", multiply(num1, num2))\n",
        "    elif op == '/':\n",
        "        print(\"Result:\", divide(num1, num2))\n",
        "    else:\n",
        "        print(\"Invalid operator!\")\n",
        "\n",
        "# Run the program\n",
        "calculator()\n"
      ]
    }
  ]
}